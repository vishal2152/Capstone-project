{
  "cells": [
    {
      "cell_type": "code",
      "execution_count": 1,
      "metadata": {
        "colab": {
          "base_uri": "https://localhost:8080/"
        },
        "id": "lxEoDUjJZdYn",
        "outputId": "4a8953d9-3c53-42c1-9dcf-b0be01b4dc68"
      },
      "outputs": [
        {
          "name": "stdout",
          "output_type": "stream",
          "text": [
            "Requirement already satisfied: nltk in d:\\anaconda\\lib\\site-packages (3.8.1)Note: you may need to restart the kernel to use updated packages.\n",
            "\n",
            "Requirement already satisfied: click in d:\\anaconda\\lib\\site-packages (from nltk) (8.0.3)\n",
            "Requirement already satisfied: tqdm in d:\\anaconda\\lib\\site-packages (from nltk) (4.62.3)\n",
            "Requirement already satisfied: joblib in d:\\anaconda\\lib\\site-packages (from nltk) (1.1.0)\n",
            "Requirement already satisfied: regex>=2021.8.3 in d:\\anaconda\\lib\\site-packages (from nltk) (2021.8.3)\n",
            "Requirement already satisfied: colorama in c:\\users\\vishal\\appdata\\roaming\\python\\python39\\site-packages (from click->nltk) (0.4.5)\n"
          ]
        }
      ],
      "source": [
        "pip install nltk"
      ]
    },
    {
      "cell_type": "code",
      "execution_count": 2,
      "metadata": {
        "colab": {
          "base_uri": "https://localhost:8080/"
        },
        "id": "uVjvKmjBZoSp",
        "outputId": "78e46e3d-f16b-4e2f-8b8d-d636fbb5db56"
      },
      "outputs": [
        {
          "name": "stderr",
          "output_type": "stream",
          "text": [
            "[nltk_data] Downloading package punkt to C:\\Users\\VISHAL/nltk_data...\n",
            "[nltk_data]   Package punkt is already up-to-date!\n",
            "[nltk_data] Downloading package wordnet to\n",
            "[nltk_data]     C:\\Users\\VISHAL/nltk_data...\n",
            "[nltk_data]   Package wordnet is already up-to-date!\n"
          ]
        },
        {
          "data": {
            "text/plain": [
              "True"
            ]
          },
          "execution_count": 2,
          "metadata": {},
          "output_type": "execute_result"
        }
      ],
      "source": [
        "import nltk\n",
        "nltk.download('punkt')\n",
        "nltk.download('wordnet')\n"
      ]
    },
    {
      "cell_type": "code",
      "execution_count": 3,
      "metadata": {
        "colab": {
          "base_uri": "https://localhost:8080/"
        },
        "id": "Oh5tU8ypbnlV",
        "outputId": "4df4fef2-2b65-4d0e-f632-eb639ac04477"
      },
      "outputs": [
        {
          "name": "stderr",
          "output_type": "stream",
          "text": [
            "[nltk_data] Downloading package omw to C:\\Users\\VISHAL/nltk_data...\n",
            "[nltk_data]   Package omw is already up-to-date!\n"
          ]
        },
        {
          "data": {
            "text/plain": [
              "True"
            ]
          },
          "execution_count": 3,
          "metadata": {},
          "output_type": "execute_result"
        }
      ],
      "source": [
        "import nltk\n",
        "nltk.download('omw')"
      ]
    },
    {
      "cell_type": "code",
      "execution_count": 4,
      "metadata": {
        "id": "_ie32LasbsJB"
      },
      "outputs": [],
      "source": [
        "from nltk.stem import WordNetLemmatizer\n",
        "lemmatizer = WordNetLemmatizer()\n",
        "import json\n",
        "import pickle\n",
        "\n",
        "import numpy as np\n",
        "from keras.models import Sequential\n",
        "from keras.layers import Dense, Activation, Dropout\n",
        "from keras.optimizers import SGD\n",
        "import random"
      ]
    },
    {
      "cell_type": "code",
      "execution_count": 7,
      "metadata": {
        "id": "QFzqgPUmkw2_"
      },
      "outputs": [],
      "source": [
        "words=[]\n",
        "classes = []\n",
        "documents = []\n",
        "ignore_words = ['?', '!']\n",
        "data_file = open('/content/drive/MyDrive/AI_CHATBOT/intents.json').read() #Copy the path of your json file which is uploaded on your google drive\n",
        "intents = json.loads(data_file)"
      ]
    },
    {
      "cell_type": "code",
      "execution_count": 8,
      "metadata": {
        "id": "gikumjIGlBie"
      },
      "outputs": [],
      "source": [
        "for intent in intents['intents']:\n",
        "    for pattern in intent['patterns']:\n",
        "\n",
        "        # take each word and tokenize it\n",
        "        w = nltk.word_tokenize(pattern)\n",
        "        words.extend(w)\n",
        "        # adding documents\n",
        "        documents.append((w, intent['tag']))\n",
        "\n",
        "        # adding classes to our class list\n",
        "        if intent['tag'] not in classes:\n",
        "            classes.append(intent['tag'])"
      ]
    },
    {
      "cell_type": "code",
      "execution_count": 9,
      "metadata": {
        "id": "23nnhX3JlV3m"
      },
      "outputs": [],
      "source": [
        "words = [lemmatizer.lemmatize(w.lower()) for w in words if w not in ignore_words]\n",
        "words = sorted(list(set(words)))\n",
        "\n",
        "classes = sorted(list(set(classes)))"
      ]
    },
    {
      "cell_type": "code",
      "execution_count": 10,
      "metadata": {
        "colab": {
          "base_uri": "https://localhost:8080/"
        },
        "id": "-n1zwRi3lg4M",
        "outputId": "20d1ef4d-6eef-4ec0-d852-009dbf7288fd"
      },
      "outputs": [
        {
          "name": "stdout",
          "output_type": "stream",
          "text": [
            "320 documents\n",
            "116 classes ['Appreciation', 'BMI', 'Concern', 'Criticism', 'O2_level', 'Personal', 'Please', 'WBC_count', 'acidity', 'acne_causes', 'age_skin', 'ava_sp', 'ayu_asthma', 'ayu_cold', 'ayu_digestion', 'ayu_hair_loss', 'ayu_heart', 'ayu_hormonal_imbalance', 'ayu_immune', 'ayu_joint_pain', 'ayu_skin', 'ayu_stress', 'balanced_meal', 'bf_ideas', 'blood_thinners', 'book_sp', 'causes_hair_loss', 'chest_pain', 'cold', 'cough', 'country_sp', 'creation_sp', 'cut_sugar', 'dark_spots', 'diet', 'diet_skin', 'evil_sp', 'exercise', 'fail_sp', 'fasting', 'fever', 'fiber', 'gandhi_sp', 'giddiness', 'goodbye', 'green_tea', 'greeting', 'hair_care_routine', 'hair_growth', 'headache', 'healthy_fats', 'high_blood_pressure', 'home_allergy', 'home_burns', 'home_cold', 'home_headache', 'home_indigestion', 'home_joint_pain', 'home_sleep', 'home_stress', 'home_throat', 'human_sp', 'hurt_sp', 'hydration', 'inflammation', 'leg_pain', 'lifestyle', 'love_sp', 'maintain_healthy_hair', 'mark_sp', 'meal_planning', 'mental_health', 'metabolism', 'natural_constipation', 'nausea', 'night_skin_care', 'obey_sp', 'options', 'past_sp', 'plant_protein', 'platelet', 'portion_sizes', 'post_workout_snack', 'pre_workout_meal', 'range_TSH', 'range_bp', 'range_cholestrol', 'range_hemoglobin', 'risk_factors', 'sad_sp', 'save_yourself_sp', 'sens_skin', 'sing_happy_birthday_sp', 'sing_song_sp', 'skin_health', 'skin_hydrated', 'skin_routine', 'skin_sun', 'skin_type', 'sleep_imp', 'smart_sp', 'stress_handle', 'sugar_level', 'sugary_drinks', 'superfoods', 'symptoms', 'thanks', 'throat_pain', 'treatment_of_chest_pain', 'treatment_of_headache', 'trim_hair', 'unknown', 'vaccine_adults', 'water_intake', 'weight_loss_snacks', 'will_love_sp']\n",
            "458 unique lemmatized words [\"'m\", \"'s\", '(', ')', ',', '.', 'a', 'about', 'aching', 'acid', 'acidity', 'acne', 'act', 'address', 'addressed', 'adult', 'after', 'again', 'ai', 'aim', 'alexa', 'all', 'allergy', 'alleviate', 'alternative', 'am', 'amazing', 'an', 'and', 'anti-aging', 'anxiety', 'any', 'anyone', 'approach', 'are', 'arthritis', 'asthma', 'awesome', 'ayurvdeic', 'ayurveda', 'ayurvedic', 'bad', 'balanced', 'basic', 'be', 'before', 'being', 'benefit', 'better', 'birthday', 'blood', 'bmi', 'body', 'book', 'boost', 'boosting', 'bothering', 'boyfriend', 'bp', 'breakfast', 'burn', 'bye', 'call', 'can', 'cardiovascular', 'care', 'cause', 'cell', 'change', 'chatbot', 'chatting', 'chest', 'chill', 'cholesterol', 'choose', 'cling', 'cold', 'command', 'common', 'condition', 'congestion', 'conquer', 'considered', 'constipation', 'control', 'cough', 'could', 'count', 'country', 'cramp', 'create', 'created', 'creator', 'cringe', 'cut', 'daily', 'dark', 'day', 'define', 'determine', 'developer', 'diabetes', 'diet', 'different', 'digestion', 'digestive', 'dizziness', 'do', 'doe', 'down', 'drink', 'drinking', 'dry', 'dull', 'ear', 'earth', 'easing', 'easy', 'eat', 'eczema', 'effect', 'effective', 'effectively', 'end', 'engineer', 'enough', 'ensure', 'establish', 'evil', 'exercise', 'experience', 'eye', 'factor', 'failed', 'failing', 'fall', 'fasting', 'fat', 'favourite', 'feel', 'feeling', 'fever', 'feverish', 'fiber', 'food', 'for', 'forget', 'from', 'gandhi', 'get', 'getting', 'giddiness', 'girlfriend', 'going', 'good', 'good-for-nothing', 'goodbye', 'google', 'got', 'green', 'growth', 'had', 'hair', 'handle', 'happy', 'harmful', 'have', 'headache', 'health', 'healthy', 'heart', 'heartburn', 'hello', 'help', 'helpful', 'helping', 'hemoglobin', 'hey', 'hi', 'high', 'hobby', 'hola', 'home', 'hope', 'hormonal', 'hormone', 'how', 'human', 'hurt', 'hydrated', 'hydrating', 'hyperpigmentation', 'hypertension', 'i', 'idea', 'if', 'ill', 'imbalance', 'immune', 'importance', 'important', 'improve', 'in', 'include', 'increase', 'indeigestion', 'index', 'indigestion', 'individual', 'infection', 'inflammation', 'ingredient', 'inr', 'insomnia', 'intake', 'intermittent', 'international', 'invented', 'irritation', 'is', 'it', 'joint', 'kill', 'know', 'later', 'leg', 'level', 'life', 'lifestyle', 'lightheadedness', 'like', 'loose', 'loss', 'lost', 'love', 'mad', 'made', 'mahatma', 'maintain', 'maintaining', 'make', 'manage', 'management', 'managing', 'mark', 'mass', 'me', 'meal', 'mental', 'messed', 'metabolism', 'migraine', 'mild', 'million', 'minor', 'miss', 'mistake', 'motion', 'mouth', 'movie', 'much', 'muscle', 'my', \"n't\", 'name', 'nation', 'natural', 'naturally', 'nausea', 'nauseous', 'need', 'next', 'nice', 'nighttime', 'no', 'normal', 'normalized', 'nose', 'not', 'obey', 'of', 'offered', 'often', 'okay', 'on', 'one', 'opinion', 'optimal', 'or', 'over', 'oxygen', 'pain', 'painful', 'past', 'persistent', 'phlegm', 'planning', 'plant-based', 'platelet', 'play', 'please', 'portion', 'post', 'post-workout', 'pre-workout', 'pressure', 'prevent', 'preventing', 'product', 'promote', 'promoting', 'proper', 'protect', 'protein', 'provide', 'quantity', 'queasy', 'range', 'ratio', 'reading', 'recommend', 'recommended', 'reduce', 'reflux', 'regular', 'relaxation', 'relieve', 'relieving', 'remedy', 'remember', 'respiratory', 'right', 'risk', 'robot', 'role', 'rough', 'routine', 'rude', 'rule', 'runny', 'sad', 'saturation', 'save', 'say', 'scratchy', 'see', 'sensation', 'sensitive', 'severe', 'sharp', 'should', 'sing', 'sinus', 'siri', 'size', 'skin', 'skincare', 'sleep', 'smart', 'smarter', 'snack', 'sneezing', 'so', 'software', 'some', 'somebody', 'someone', 'something', 'song', 'soothe', 'soothing', 'sore', 'soreness', 'sour', 'source', 'specific', 'spinning', 'split', 'spot', 'stay', 'staying', 'stomach', 'stomachache', 'stress', 'stupid', 'such', 'sugar', 'sugary', 'suggest', 'sun', 'superfoods', 'support', 'sure', 'swallowing', 'swelling', 'symptom', 'syperfoods', 'system', 'take', 'taking', 'talk', 'target', 'taste', 'tea', 'tell', 'temperature', 'terminator', 'than', 'thank', 'thanks', 'that', 'the', 'there', 'think', 'thinner', 'throat', 'throughout', 'thyroid-stimulating', 'tightness', 'till', 'time', 'tip', 'tired', 'to', 'today', 'totally', 'trim', 'true', 'tsh', 'type', 'up', 'upset', 'used', 'useless', 'vaccine', 'very', 'water', 'wbc', 'weight', 'well', 'well-balanced', 'what', 'where', 'which', 'white', 'who', 'why', 'will', 'with', 'woman', 'workout', 'world', 'wrokout', 'wrong', 'you', 'your', 'yourself', 'zuckerberg']\n"
          ]
        }
      ],
      "source": [
        "print (len(documents), \"documents\")\n",
        "\n",
        "print (len(classes), \"classes\", classes)\n",
        "\n",
        "print (len(words), \"unique lemmatized words\", words)"
      ]
    },
    {
      "cell_type": "code",
      "execution_count": 11,
      "metadata": {
        "id": "tm0KHWyXljxO"
      },
      "outputs": [],
      "source": [
        "pickle.dump(words,open('words.pkl','wb'))\n",
        "pickle.dump(classes,open('classes.pkl','wb'))"
      ]
    },
    {
      "cell_type": "code",
      "execution_count": 12,
      "metadata": {
        "colab": {
          "base_uri": "https://localhost:8080/"
        },
        "id": "q8P976r6lvOn",
        "outputId": "de2f20cc-5ceb-4149-9c03-7ab1176b9d6f"
      },
      "outputs": [
        {
          "name": "stdout",
          "output_type": "stream",
          "text": [
            "Training data created\n"
          ]
        },
        {
          "name": "stderr",
          "output_type": "stream",
          "text": [
            "<ipython-input-12-1a891a7a8859>:22: VisibleDeprecationWarning: Creating an ndarray from ragged nested sequences (which is a list-or-tuple of lists-or-tuples-or ndarrays with different lengths or shapes) is deprecated. If you meant to do this, you must specify 'dtype=object' when creating the ndarray.\n",
            "  training = np.array(training)\n"
          ]
        }
      ],
      "source": [
        "# initializing training data\n",
        "training = []\n",
        "output_empty = [0] * len(classes)\n",
        "for doc in documents:\n",
        "    # initializing bag of words\n",
        "    bag = []\n",
        "    # list of tokenized words for the pattern\n",
        "    pattern_words = doc[0]\n",
        "    # lemmatize each word - create base word, in attempt to represent related words\n",
        "    pattern_words = [lemmatizer.lemmatize(word.lower()) for word in pattern_words]\n",
        "    # create our bag of words array with 1, if word match found in current pattern\n",
        "    for w in words:\n",
        "        bag.append(1) if w in pattern_words else bag.append(0)\n",
        "\n",
        "    # output is a '0' for each tag and '1' for current tag (for each pattern)\n",
        "    output_row = list(output_empty)\n",
        "    output_row[classes.index(doc[1])] = 1\n",
        "\n",
        "    training.append([bag, output_row])\n",
        "# shuffle our features and turn into np.array\n",
        "random.shuffle(training)\n",
        "training = np.array(training)\n",
        "# create train and test lists. X - patterns, Y - intents\n",
        "train_x = list(training[:,0])\n",
        "train_y = list(training[:,1])\n",
        "print(\"Training data created\")"
      ]
    },
    {
      "cell_type": "code",
      "execution_count": 13,
      "metadata": {
        "id": "L1lyuZrhmIXd"
      },
      "outputs": [],
      "source": [
        "model = Sequential()\n",
        "model.add(Dense(128, input_shape=(len(train_x[0]),), activation='relu'))\n",
        "model.add(Dropout(0.5))\n",
        "model.add(Dense(64, activation='relu'))\n",
        "model.add(Dropout(0.5))\n",
        "model.add(Dense(len(train_y[0]), activation='softmax'))"
      ]
    },
    {
      "cell_type": "code",
      "execution_count": 14,
      "metadata": {
        "colab": {
          "base_uri": "https://localhost:8080/"
        },
        "id": "CDVscmAgl1Qb",
        "outputId": "e0b10b2e-3c5b-423a-c20b-ec829531094d"
      },
      "outputs": [
        {
          "name": "stdout",
          "output_type": "stream",
          "text": [
            "Epoch 1/200\n",
            "64/64 [==============================] - 1s 3ms/step - loss: 4.7559 - accuracy: 0.0375\n",
            "Epoch 2/200\n",
            "64/64 [==============================] - 0s 3ms/step - loss: 4.7009 - accuracy: 0.0562\n",
            "Epoch 3/200\n",
            "64/64 [==============================] - 0s 3ms/step - loss: 4.6358 - accuracy: 0.0594\n",
            "Epoch 4/200\n",
            "64/64 [==============================] - 0s 3ms/step - loss: 4.5672 - accuracy: 0.0562\n",
            "Epoch 5/200\n",
            "64/64 [==============================] - 0s 2ms/step - loss: 4.4753 - accuracy: 0.0656\n",
            "Epoch 6/200\n",
            "64/64 [==============================] - 0s 3ms/step - loss: 4.3588 - accuracy: 0.0938\n",
            "Epoch 7/200\n",
            "64/64 [==============================] - 0s 3ms/step - loss: 4.2393 - accuracy: 0.0938\n",
            "Epoch 8/200\n",
            "64/64 [==============================] - 0s 3ms/step - loss: 4.1014 - accuracy: 0.1125\n",
            "Epoch 9/200\n",
            "64/64 [==============================] - 0s 3ms/step - loss: 4.0686 - accuracy: 0.1031\n",
            "Epoch 10/200\n",
            "64/64 [==============================] - 0s 2ms/step - loss: 3.9056 - accuracy: 0.1125\n",
            "Epoch 11/200\n",
            "64/64 [==============================] - 0s 2ms/step - loss: 3.8078 - accuracy: 0.1250\n",
            "Epoch 12/200\n",
            "64/64 [==============================] - 0s 2ms/step - loss: 3.6106 - accuracy: 0.1656\n",
            "Epoch 13/200\n",
            "64/64 [==============================] - 0s 3ms/step - loss: 3.4511 - accuracy: 0.2062\n",
            "Epoch 14/200\n",
            "64/64 [==============================] - 0s 3ms/step - loss: 3.3689 - accuracy: 0.1781\n",
            "Epoch 15/200\n",
            "64/64 [==============================] - 0s 2ms/step - loss: 3.1584 - accuracy: 0.2500\n",
            "Epoch 16/200\n",
            "64/64 [==============================] - 0s 3ms/step - loss: 2.9730 - accuracy: 0.2844\n",
            "Epoch 17/200\n",
            "64/64 [==============================] - 0s 4ms/step - loss: 3.0483 - accuracy: 0.2469\n",
            "Epoch 18/200\n",
            "64/64 [==============================] - 0s 3ms/step - loss: 2.8300 - accuracy: 0.2719\n",
            "Epoch 19/200\n",
            "64/64 [==============================] - 0s 3ms/step - loss: 2.5696 - accuracy: 0.3594\n",
            "Epoch 20/200\n",
            "64/64 [==============================] - 0s 3ms/step - loss: 2.4930 - accuracy: 0.3625\n",
            "Epoch 21/200\n",
            "64/64 [==============================] - 0s 3ms/step - loss: 2.2743 - accuracy: 0.4313\n",
            "Epoch 22/200\n",
            "64/64 [==============================] - 0s 4ms/step - loss: 2.2448 - accuracy: 0.4062\n",
            "Epoch 23/200\n",
            "64/64 [==============================] - 0s 3ms/step - loss: 2.1277 - accuracy: 0.4250\n",
            "Epoch 24/200\n",
            "64/64 [==============================] - 0s 3ms/step - loss: 1.9534 - accuracy: 0.4656\n",
            "Epoch 25/200\n",
            "64/64 [==============================] - 0s 3ms/step - loss: 1.9439 - accuracy: 0.4906\n",
            "Epoch 26/200\n",
            "64/64 [==============================] - 0s 4ms/step - loss: 2.0093 - accuracy: 0.4531\n",
            "Epoch 27/200\n",
            "64/64 [==============================] - 0s 4ms/step - loss: 1.9385 - accuracy: 0.4281\n",
            "Epoch 28/200\n",
            "64/64 [==============================] - 0s 3ms/step - loss: 1.7463 - accuracy: 0.5094\n",
            "Epoch 29/200\n",
            "64/64 [==============================] - 0s 4ms/step - loss: 1.6946 - accuracy: 0.5594\n",
            "Epoch 30/200\n",
            "64/64 [==============================] - 0s 4ms/step - loss: 1.5926 - accuracy: 0.5500\n",
            "Epoch 31/200\n",
            "64/64 [==============================] - 0s 4ms/step - loss: 1.5867 - accuracy: 0.5656\n",
            "Epoch 32/200\n",
            "64/64 [==============================] - 0s 3ms/step - loss: 1.5151 - accuracy: 0.5906\n",
            "Epoch 33/200\n",
            "64/64 [==============================] - 0s 3ms/step - loss: 1.4596 - accuracy: 0.6219\n",
            "Epoch 34/200\n",
            "64/64 [==============================] - 0s 3ms/step - loss: 1.3978 - accuracy: 0.5875\n",
            "Epoch 35/200\n",
            "64/64 [==============================] - 0s 3ms/step - loss: 1.3325 - accuracy: 0.6094\n",
            "Epoch 36/200\n",
            "64/64 [==============================] - 0s 4ms/step - loss: 1.3500 - accuracy: 0.6500\n",
            "Epoch 37/200\n",
            "64/64 [==============================] - 0s 4ms/step - loss: 1.3333 - accuracy: 0.6281\n",
            "Epoch 38/200\n",
            "64/64 [==============================] - 0s 4ms/step - loss: 1.4372 - accuracy: 0.6219\n",
            "Epoch 39/200\n",
            "64/64 [==============================] - 0s 3ms/step - loss: 1.1720 - accuracy: 0.7000\n",
            "Epoch 40/200\n",
            "64/64 [==============================] - 0s 4ms/step - loss: 1.2451 - accuracy: 0.6344\n",
            "Epoch 41/200\n",
            "64/64 [==============================] - 0s 3ms/step - loss: 1.2324 - accuracy: 0.6594\n",
            "Epoch 42/200\n",
            "64/64 [==============================] - 0s 4ms/step - loss: 1.1398 - accuracy: 0.6656\n",
            "Epoch 43/200\n",
            "64/64 [==============================] - 0s 3ms/step - loss: 1.1374 - accuracy: 0.6781\n",
            "Epoch 44/200\n",
            "64/64 [==============================] - 0s 3ms/step - loss: 1.1276 - accuracy: 0.6469\n",
            "Epoch 45/200\n",
            "64/64 [==============================] - 0s 3ms/step - loss: 1.0646 - accuracy: 0.6781\n",
            "Epoch 46/200\n",
            "64/64 [==============================] - 0s 3ms/step - loss: 1.0493 - accuracy: 0.6906\n",
            "Epoch 47/200\n",
            "64/64 [==============================] - 0s 4ms/step - loss: 1.1049 - accuracy: 0.6875\n",
            "Epoch 48/200\n",
            "64/64 [==============================] - 0s 3ms/step - loss: 1.0069 - accuracy: 0.7469\n",
            "Epoch 49/200\n",
            "64/64 [==============================] - 0s 4ms/step - loss: 1.1512 - accuracy: 0.6562\n",
            "Epoch 50/200\n",
            "64/64 [==============================] - 0s 4ms/step - loss: 1.1005 - accuracy: 0.6938\n",
            "Epoch 51/200\n",
            "64/64 [==============================] - 0s 2ms/step - loss: 0.9078 - accuracy: 0.7344\n",
            "Epoch 52/200\n",
            "64/64 [==============================] - 0s 2ms/step - loss: 0.9639 - accuracy: 0.7156\n",
            "Epoch 53/200\n",
            "64/64 [==============================] - 0s 2ms/step - loss: 0.9281 - accuracy: 0.7031\n",
            "Epoch 54/200\n",
            "64/64 [==============================] - 0s 2ms/step - loss: 0.8205 - accuracy: 0.7656\n",
            "Epoch 55/200\n",
            "64/64 [==============================] - 0s 2ms/step - loss: 0.9066 - accuracy: 0.6844\n",
            "Epoch 56/200\n",
            "64/64 [==============================] - 0s 3ms/step - loss: 1.0225 - accuracy: 0.7125\n",
            "Epoch 57/200\n",
            "64/64 [==============================] - 0s 2ms/step - loss: 0.8039 - accuracy: 0.7594\n",
            "Epoch 58/200\n",
            "64/64 [==============================] - 0s 3ms/step - loss: 0.9960 - accuracy: 0.7063\n",
            "Epoch 59/200\n",
            "64/64 [==============================] - 0s 4ms/step - loss: 0.8013 - accuracy: 0.7688\n",
            "Epoch 60/200\n",
            "64/64 [==============================] - 0s 4ms/step - loss: 0.9337 - accuracy: 0.7437\n",
            "Epoch 61/200\n",
            "64/64 [==============================] - 0s 4ms/step - loss: 0.8528 - accuracy: 0.7469\n",
            "Epoch 62/200\n",
            "64/64 [==============================] - 0s 3ms/step - loss: 0.9157 - accuracy: 0.7344\n",
            "Epoch 63/200\n",
            "64/64 [==============================] - 0s 2ms/step - loss: 0.8691 - accuracy: 0.7406\n",
            "Epoch 64/200\n",
            "64/64 [==============================] - 0s 2ms/step - loss: 0.8162 - accuracy: 0.7594\n",
            "Epoch 65/200\n",
            "64/64 [==============================] - 0s 2ms/step - loss: 0.8172 - accuracy: 0.7563\n",
            "Epoch 66/200\n",
            "64/64 [==============================] - 0s 3ms/step - loss: 0.7105 - accuracy: 0.7906\n",
            "Epoch 67/200\n",
            "64/64 [==============================] - 0s 3ms/step - loss: 0.9181 - accuracy: 0.7469\n",
            "Epoch 68/200\n",
            "64/64 [==============================] - 0s 3ms/step - loss: 0.8395 - accuracy: 0.7406\n",
            "Epoch 69/200\n",
            "64/64 [==============================] - 0s 2ms/step - loss: 0.8410 - accuracy: 0.7688\n",
            "Epoch 70/200\n",
            "64/64 [==============================] - 0s 2ms/step - loss: 0.6720 - accuracy: 0.8062\n",
            "Epoch 71/200\n",
            "64/64 [==============================] - 0s 2ms/step - loss: 0.8620 - accuracy: 0.7563\n",
            "Epoch 72/200\n",
            "64/64 [==============================] - 0s 2ms/step - loss: 0.7918 - accuracy: 0.7688\n",
            "Epoch 73/200\n",
            "64/64 [==============================] - 0s 2ms/step - loss: 0.8349 - accuracy: 0.7563\n",
            "Epoch 74/200\n",
            "64/64 [==============================] - 0s 2ms/step - loss: 0.7603 - accuracy: 0.7437\n",
            "Epoch 75/200\n",
            "64/64 [==============================] - 0s 2ms/step - loss: 0.6989 - accuracy: 0.7781\n",
            "Epoch 76/200\n",
            "64/64 [==============================] - 0s 2ms/step - loss: 0.7747 - accuracy: 0.7906\n",
            "Epoch 77/200\n",
            "64/64 [==============================] - 0s 3ms/step - loss: 0.8505 - accuracy: 0.7563\n",
            "Epoch 78/200\n",
            "64/64 [==============================] - 0s 2ms/step - loss: 0.8059 - accuracy: 0.7781\n",
            "Epoch 79/200\n",
            "64/64 [==============================] - 0s 3ms/step - loss: 0.8102 - accuracy: 0.7500\n",
            "Epoch 80/200\n",
            "64/64 [==============================] - 0s 2ms/step - loss: 0.7001 - accuracy: 0.7781\n",
            "Epoch 81/200\n",
            "64/64 [==============================] - 0s 2ms/step - loss: 0.7745 - accuracy: 0.7688\n",
            "Epoch 82/200\n",
            "64/64 [==============================] - 0s 3ms/step - loss: 0.6758 - accuracy: 0.7969\n",
            "Epoch 83/200\n",
            "64/64 [==============================] - 0s 2ms/step - loss: 0.5871 - accuracy: 0.8313\n",
            "Epoch 84/200\n",
            "64/64 [==============================] - 0s 3ms/step - loss: 0.5865 - accuracy: 0.8344\n",
            "Epoch 85/200\n",
            "64/64 [==============================] - 0s 3ms/step - loss: 0.6756 - accuracy: 0.7781\n",
            "Epoch 86/200\n",
            "64/64 [==============================] - 0s 2ms/step - loss: 0.7146 - accuracy: 0.7906\n",
            "Epoch 87/200\n",
            "64/64 [==============================] - 0s 2ms/step - loss: 0.6892 - accuracy: 0.8094\n",
            "Epoch 88/200\n",
            "64/64 [==============================] - 0s 2ms/step - loss: 0.6768 - accuracy: 0.8000\n",
            "Epoch 89/200\n",
            "64/64 [==============================] - 0s 2ms/step - loss: 0.6833 - accuracy: 0.7906\n",
            "Epoch 90/200\n",
            "64/64 [==============================] - 0s 2ms/step - loss: 0.7057 - accuracy: 0.7906\n",
            "Epoch 91/200\n",
            "64/64 [==============================] - 0s 2ms/step - loss: 0.9030 - accuracy: 0.7375\n",
            "Epoch 92/200\n",
            "64/64 [==============================] - 0s 3ms/step - loss: 0.7520 - accuracy: 0.7906\n",
            "Epoch 93/200\n",
            "64/64 [==============================] - 0s 2ms/step - loss: 0.8504 - accuracy: 0.7750\n",
            "Epoch 94/200\n",
            "64/64 [==============================] - 0s 3ms/step - loss: 0.6914 - accuracy: 0.8062\n",
            "Epoch 95/200\n",
            "64/64 [==============================] - 0s 2ms/step - loss: 0.7566 - accuracy: 0.7594\n",
            "Epoch 96/200\n",
            "64/64 [==============================] - 0s 2ms/step - loss: 0.6835 - accuracy: 0.7844\n",
            "Epoch 97/200\n",
            "64/64 [==============================] - 0s 3ms/step - loss: 0.6632 - accuracy: 0.7688\n",
            "Epoch 98/200\n",
            "64/64 [==============================] - 0s 3ms/step - loss: 0.6913 - accuracy: 0.8062\n",
            "Epoch 99/200\n",
            "64/64 [==============================] - 0s 2ms/step - loss: 0.7773 - accuracy: 0.7625\n",
            "Epoch 100/200\n",
            "64/64 [==============================] - 0s 2ms/step - loss: 0.7926 - accuracy: 0.7594\n",
            "Epoch 101/200\n",
            "64/64 [==============================] - 0s 2ms/step - loss: 0.6948 - accuracy: 0.8062\n",
            "Epoch 102/200\n",
            "64/64 [==============================] - 0s 2ms/step - loss: 0.6862 - accuracy: 0.8000\n",
            "Epoch 103/200\n",
            "64/64 [==============================] - 0s 2ms/step - loss: 0.7508 - accuracy: 0.7688\n",
            "Epoch 104/200\n",
            "64/64 [==============================] - 0s 3ms/step - loss: 0.6656 - accuracy: 0.8344\n",
            "Epoch 105/200\n",
            "64/64 [==============================] - 0s 3ms/step - loss: 0.8091 - accuracy: 0.7812\n",
            "Epoch 106/200\n",
            "64/64 [==============================] - 0s 2ms/step - loss: 0.6797 - accuracy: 0.8031\n",
            "Epoch 107/200\n",
            "64/64 [==============================] - 0s 3ms/step - loss: 0.6770 - accuracy: 0.7937\n",
            "Epoch 108/200\n",
            "64/64 [==============================] - 0s 3ms/step - loss: 0.7037 - accuracy: 0.7969\n",
            "Epoch 109/200\n",
            "64/64 [==============================] - 0s 4ms/step - loss: 0.7010 - accuracy: 0.8031\n",
            "Epoch 110/200\n",
            "64/64 [==============================] - 0s 3ms/step - loss: 0.7585 - accuracy: 0.7875\n",
            "Epoch 111/200\n",
            "64/64 [==============================] - 0s 4ms/step - loss: 0.7821 - accuracy: 0.8062\n",
            "Epoch 112/200\n",
            "64/64 [==============================] - 0s 3ms/step - loss: 0.6820 - accuracy: 0.8188\n",
            "Epoch 113/200\n",
            "64/64 [==============================] - 0s 3ms/step - loss: 0.7017 - accuracy: 0.7969\n",
            "Epoch 114/200\n",
            "64/64 [==============================] - 0s 4ms/step - loss: 0.6903 - accuracy: 0.8062\n",
            "Epoch 115/200\n",
            "64/64 [==============================] - 0s 3ms/step - loss: 0.7375 - accuracy: 0.7812\n",
            "Epoch 116/200\n",
            "64/64 [==============================] - 0s 4ms/step - loss: 0.7496 - accuracy: 0.7781\n",
            "Epoch 117/200\n",
            "64/64 [==============================] - 0s 4ms/step - loss: 0.7871 - accuracy: 0.7719\n",
            "Epoch 118/200\n",
            "64/64 [==============================] - 0s 4ms/step - loss: 0.6682 - accuracy: 0.8188\n",
            "Epoch 119/200\n",
            "64/64 [==============================] - 0s 4ms/step - loss: 0.6574 - accuracy: 0.7937\n",
            "Epoch 120/200\n",
            "64/64 [==============================] - 0s 3ms/step - loss: 0.6571 - accuracy: 0.8156\n",
            "Epoch 121/200\n",
            "64/64 [==============================] - 0s 3ms/step - loss: 0.6339 - accuracy: 0.8188\n",
            "Epoch 122/200\n",
            "64/64 [==============================] - 0s 4ms/step - loss: 0.6152 - accuracy: 0.8094\n",
            "Epoch 123/200\n",
            "64/64 [==============================] - 0s 4ms/step - loss: 0.6180 - accuracy: 0.8219\n",
            "Epoch 124/200\n",
            "64/64 [==============================] - 0s 4ms/step - loss: 0.6223 - accuracy: 0.8188\n",
            "Epoch 125/200\n",
            "64/64 [==============================] - 0s 4ms/step - loss: 0.6284 - accuracy: 0.8062\n",
            "Epoch 126/200\n",
            "64/64 [==============================] - 0s 4ms/step - loss: 0.6671 - accuracy: 0.7906\n",
            "Epoch 127/200\n",
            "64/64 [==============================] - 0s 4ms/step - loss: 0.8320 - accuracy: 0.7625\n",
            "Epoch 128/200\n",
            "64/64 [==============================] - 0s 4ms/step - loss: 0.6384 - accuracy: 0.7937\n",
            "Epoch 129/200\n",
            "64/64 [==============================] - 0s 4ms/step - loss: 0.6688 - accuracy: 0.8031\n",
            "Epoch 130/200\n",
            "64/64 [==============================] - 1s 12ms/step - loss: 0.5697 - accuracy: 0.8313\n",
            "Epoch 131/200\n",
            "64/64 [==============================] - 0s 5ms/step - loss: 0.5952 - accuracy: 0.8281\n",
            "Epoch 132/200\n",
            "64/64 [==============================] - 0s 7ms/step - loss: 0.5908 - accuracy: 0.8188\n",
            "Epoch 133/200\n",
            "64/64 [==============================] - 1s 11ms/step - loss: 0.6213 - accuracy: 0.7969\n",
            "Epoch 134/200\n",
            "64/64 [==============================] - 0s 4ms/step - loss: 0.6683 - accuracy: 0.8156\n",
            "Epoch 135/200\n",
            "64/64 [==============================] - 1s 13ms/step - loss: 0.6232 - accuracy: 0.8094\n",
            "Epoch 136/200\n",
            "64/64 [==============================] - 0s 2ms/step - loss: 0.6774 - accuracy: 0.8000\n",
            "Epoch 137/200\n",
            "64/64 [==============================] - 0s 3ms/step - loss: 0.5950 - accuracy: 0.8281\n",
            "Epoch 138/200\n",
            "64/64 [==============================] - 0s 2ms/step - loss: 0.6184 - accuracy: 0.8219\n",
            "Epoch 139/200\n",
            "64/64 [==============================] - 0s 2ms/step - loss: 0.5484 - accuracy: 0.8406\n",
            "Epoch 140/200\n",
            "64/64 [==============================] - 0s 3ms/step - loss: 0.5733 - accuracy: 0.8438\n",
            "Epoch 141/200\n",
            "64/64 [==============================] - 0s 3ms/step - loss: 0.6996 - accuracy: 0.8000\n",
            "Epoch 142/200\n",
            "64/64 [==============================] - 0s 2ms/step - loss: 0.6101 - accuracy: 0.8188\n",
            "Epoch 143/200\n",
            "64/64 [==============================] - 0s 3ms/step - loss: 0.5796 - accuracy: 0.8188\n",
            "Epoch 144/200\n",
            "64/64 [==============================] - 0s 3ms/step - loss: 0.6014 - accuracy: 0.8219\n",
            "Epoch 145/200\n",
            "64/64 [==============================] - 0s 3ms/step - loss: 0.6765 - accuracy: 0.8094\n",
            "Epoch 146/200\n",
            "64/64 [==============================] - 0s 3ms/step - loss: 0.6688 - accuracy: 0.7875\n",
            "Epoch 147/200\n",
            "64/64 [==============================] - 0s 3ms/step - loss: 0.7869 - accuracy: 0.7969\n",
            "Epoch 148/200\n",
            "64/64 [==============================] - 0s 3ms/step - loss: 0.5607 - accuracy: 0.8219\n",
            "Epoch 149/200\n",
            "64/64 [==============================] - 0s 3ms/step - loss: 0.6814 - accuracy: 0.8219\n",
            "Epoch 150/200\n",
            "64/64 [==============================] - 0s 3ms/step - loss: 0.7104 - accuracy: 0.8031\n",
            "Epoch 151/200\n",
            "64/64 [==============================] - 0s 3ms/step - loss: 0.6645 - accuracy: 0.8125\n",
            "Epoch 152/200\n",
            "64/64 [==============================] - 0s 3ms/step - loss: 0.5377 - accuracy: 0.8375\n",
            "Epoch 153/200\n",
            "64/64 [==============================] - 0s 3ms/step - loss: 0.8040 - accuracy: 0.7625\n",
            "Epoch 154/200\n",
            "64/64 [==============================] - 0s 3ms/step - loss: 0.6381 - accuracy: 0.8125\n",
            "Epoch 155/200\n",
            "64/64 [==============================] - 0s 2ms/step - loss: 0.6409 - accuracy: 0.8313\n",
            "Epoch 156/200\n",
            "64/64 [==============================] - 0s 2ms/step - loss: 0.6099 - accuracy: 0.8094\n",
            "Epoch 157/200\n",
            "64/64 [==============================] - 0s 3ms/step - loss: 0.5738 - accuracy: 0.8219\n",
            "Epoch 158/200\n",
            "64/64 [==============================] - 0s 2ms/step - loss: 0.5672 - accuracy: 0.8656\n",
            "Epoch 159/200\n",
            "64/64 [==============================] - 0s 3ms/step - loss: 0.6765 - accuracy: 0.8281\n",
            "Epoch 160/200\n",
            "64/64 [==============================] - 0s 3ms/step - loss: 0.6044 - accuracy: 0.8313\n",
            "Epoch 161/200\n",
            "64/64 [==============================] - 0s 4ms/step - loss: 0.5802 - accuracy: 0.8406\n",
            "Epoch 162/200\n",
            "64/64 [==============================] - 0s 4ms/step - loss: 0.6010 - accuracy: 0.8125\n",
            "Epoch 163/200\n",
            "64/64 [==============================] - 0s 4ms/step - loss: 0.6929 - accuracy: 0.8062\n",
            "Epoch 164/200\n",
            "64/64 [==============================] - 0s 4ms/step - loss: 0.6382 - accuracy: 0.8062\n",
            "Epoch 165/200\n",
            "64/64 [==============================] - 0s 2ms/step - loss: 0.7980 - accuracy: 0.7781\n",
            "Epoch 166/200\n",
            "64/64 [==============================] - 0s 3ms/step - loss: 0.5959 - accuracy: 0.8219\n",
            "Epoch 167/200\n",
            "64/64 [==============================] - 0s 3ms/step - loss: 0.6187 - accuracy: 0.8281\n",
            "Epoch 168/200\n",
            "64/64 [==============================] - 0s 2ms/step - loss: 0.6544 - accuracy: 0.8062\n",
            "Epoch 169/200\n",
            "64/64 [==============================] - 0s 3ms/step - loss: 0.7315 - accuracy: 0.7844\n",
            "Epoch 170/200\n",
            "64/64 [==============================] - 0s 3ms/step - loss: 0.6908 - accuracy: 0.8125\n",
            "Epoch 171/200\n",
            "64/64 [==============================] - 0s 4ms/step - loss: 0.7874 - accuracy: 0.7875\n",
            "Epoch 172/200\n",
            "64/64 [==============================] - 0s 4ms/step - loss: 0.5923 - accuracy: 0.8406\n",
            "Epoch 173/200\n",
            "64/64 [==============================] - 0s 4ms/step - loss: 0.6159 - accuracy: 0.8406\n",
            "Epoch 174/200\n",
            "64/64 [==============================] - 0s 4ms/step - loss: 0.6107 - accuracy: 0.8281\n",
            "Epoch 175/200\n",
            "64/64 [==============================] - 0s 3ms/step - loss: 0.5890 - accuracy: 0.8438\n",
            "Epoch 176/200\n",
            "64/64 [==============================] - 0s 2ms/step - loss: 0.6217 - accuracy: 0.8156\n",
            "Epoch 177/200\n",
            "64/64 [==============================] - 0s 2ms/step - loss: 0.4903 - accuracy: 0.8562\n",
            "Epoch 178/200\n",
            "64/64 [==============================] - 0s 2ms/step - loss: 0.5823 - accuracy: 0.8156\n",
            "Epoch 179/200\n",
            "64/64 [==============================] - 0s 2ms/step - loss: 0.6573 - accuracy: 0.8219\n",
            "Epoch 180/200\n",
            "64/64 [==============================] - 0s 3ms/step - loss: 0.6745 - accuracy: 0.7969\n",
            "Epoch 181/200\n",
            "64/64 [==============================] - 0s 3ms/step - loss: 0.6522 - accuracy: 0.8313\n",
            "Epoch 182/200\n",
            "64/64 [==============================] - 0s 2ms/step - loss: 0.6524 - accuracy: 0.8031\n",
            "Epoch 183/200\n",
            "64/64 [==============================] - 0s 2ms/step - loss: 0.6275 - accuracy: 0.8094\n",
            "Epoch 184/200\n",
            "64/64 [==============================] - 0s 3ms/step - loss: 0.6852 - accuracy: 0.7937\n",
            "Epoch 185/200\n",
            "64/64 [==============================] - 0s 3ms/step - loss: 0.6325 - accuracy: 0.8375\n",
            "Epoch 186/200\n",
            "64/64 [==============================] - 0s 3ms/step - loss: 0.5284 - accuracy: 0.8500\n",
            "Epoch 187/200\n",
            "64/64 [==============================] - 0s 2ms/step - loss: 0.5564 - accuracy: 0.8594\n",
            "Epoch 188/200\n",
            "64/64 [==============================] - 0s 3ms/step - loss: 0.4630 - accuracy: 0.8469\n",
            "Epoch 189/200\n",
            "64/64 [==============================] - 0s 4ms/step - loss: 0.6737 - accuracy: 0.8031\n",
            "Epoch 190/200\n",
            "64/64 [==============================] - 0s 3ms/step - loss: 0.6125 - accuracy: 0.8125\n",
            "Epoch 191/200\n",
            "64/64 [==============================] - 0s 3ms/step - loss: 0.6508 - accuracy: 0.8156\n",
            "Epoch 192/200\n",
            "64/64 [==============================] - 0s 3ms/step - loss: 0.5225 - accuracy: 0.8625\n",
            "Epoch 193/200\n",
            "64/64 [==============================] - 0s 4ms/step - loss: 0.6683 - accuracy: 0.8062\n",
            "Epoch 194/200\n",
            "64/64 [==============================] - 0s 4ms/step - loss: 0.6428 - accuracy: 0.8125\n",
            "Epoch 195/200\n",
            "64/64 [==============================] - 0s 3ms/step - loss: 0.7127 - accuracy: 0.7906\n",
            "Epoch 196/200\n",
            "64/64 [==============================] - 0s 3ms/step - loss: 0.6714 - accuracy: 0.8281\n",
            "Epoch 197/200\n",
            "64/64 [==============================] - 0s 4ms/step - loss: 0.5876 - accuracy: 0.8406\n",
            "Epoch 198/200\n",
            "64/64 [==============================] - 0s 3ms/step - loss: 0.6036 - accuracy: 0.8156\n",
            "Epoch 199/200\n",
            "64/64 [==============================] - 0s 3ms/step - loss: 0.6944 - accuracy: 0.7969\n",
            "Epoch 200/200\n",
            "64/64 [==============================] - 0s 3ms/step - loss: 0.4835 - accuracy: 0.8625\n"
          ]
        }
      ],
      "source": [
        "from tensorflow.keras.optimizers import SGD\n",
        "\n",
        "sgd = SGD(learning_rate=0.01, momentum=0.9, nesterov=True)\n",
        "model.compile(loss='categorical_crossentropy', optimizer=sgd, metrics=['accuracy'])\n",
        "\n",
        "# fitting and saving the model\n",
        "hist = model.fit(np.array(train_x), np.array(train_y), epochs=200, batch_size=5, verbose=1)\n"
      ]
    }
  ],
  "metadata": {
    "colab": {
      "provenance": []
    },
    "kernelspec": {
      "display_name": "Python 3",
      "name": "python3"
    },
    "language_info": {
      "codemirror_mode": {
        "name": "ipython",
        "version": 3
      },
      "file_extension": ".py",
      "mimetype": "text/x-python",
      "name": "python",
      "nbconvert_exporter": "python",
      "pygments_lexer": "ipython3",
      "version": "3.9.7"
    }
  },
  "nbformat": 4,
  "nbformat_minor": 0
}
